{
 "cells": [
  {
   "cell_type": "markdown",
   "metadata": {},
   "source": [
    "# Calibration"
   ]
  },
  {
   "cell_type": "code",
   "execution_count": 1,
   "metadata": {
    "collapsed": true
   },
   "outputs": [],
   "source": [
    "import cv2\n",
    "import numpy as np\n",
    "import matplotlib.pyplot as plt\n",
    "import matplotlib.image as mpimg\n",
    "import glob\n",
    "from helper import warp, getSobelBinaryX, getSobelBinaryY, getSobelX, getSobelY,\\\n",
    "                    getSobelDirection, getSatBinary, combineBinary, windSlide, usePrevSlide, getLaplace, getThres\n",
    "from pipeline import pipeline\n",
    "\n",
    "%matplotlib inline\n",
    "%matplotlib qt\n",
    "%qtconsole"
   ]
  },
  {
   "cell_type": "code",
   "execution_count": 2,
   "metadata": {
    "collapsed": true
   },
   "outputs": [],
   "source": [
    "images = glob.glob('camera_cal/calibration*.jpg')\n",
    "\n",
    "# Arrays to store object points and image points from all the images\n",
    "\n",
    "objpoints = [] # 3D points in real world space\n",
    "imgpoints = [] # 2D points in image plane\n",
    "\n",
    "objp = np.zeros((6*9,3), np.float32)\n",
    "objp[:,:2] = np.mgrid[0:9, 0:6].T.reshape(-1, 2) # x, y coordinates\n",
    "\n",
    "for fname in images:\n",
    "    #read in each image\n",
    "    img = mpimg.imread(fname)\n",
    "    \n",
    "    # convert image to grayscale\n",
    "    gray = cv2.cvtColor(img, cv2.COLOR_RGB2GRAY)\n",
    "\n",
    "    # find the chessboard corners\n",
    "    ret, corners = cv2.findChessboardCorners(gray, (9,6), None)\n",
    "    # If corners are found, add object points, image points\n",
    "    if ret == True:\n",
    "        imgpoints.append(corners)\n",
    "        objpoints.append(objp)"
   ]
  },
  {
   "cell_type": "code",
   "execution_count": 3,
   "metadata": {},
   "outputs": [
    {
     "data": {
      "text/plain": [
       "<matplotlib.image.AxesImage at 0x1f3c7bb4ba8>"
      ]
     },
     "execution_count": 3,
     "metadata": {},
     "output_type": "execute_result"
    }
   ],
   "source": [
    "fname = 'camera_cal/calibration2.jpg'\n",
    "img = mpimg.imread(fname)\n",
    "gray = cv2.cvtColor(img, cv2.COLOR_RGB2GRAY)\n",
    "ret, corners = cv2.findChessboardCorners(gray, (9,6), None)\n",
    "img = cv2.drawChessboardCorners(img, (9,6), corners, ret)\n",
    "plt.imshow(img)"
   ]
  },
  {
   "cell_type": "code",
   "execution_count": 4,
   "metadata": {
    "collapsed": true
   },
   "outputs": [],
   "source": [
    "def calibrate(img, objpoints, imgpoints):\n",
    "    gray = cv2.cvtColor(img, cv2.COLOR_BGR2GRAY)\n",
    "    ret, mtx, dist, rvecs, tvecs = cv2.calibrateCamera(objpoints, imgpoints, gray.shape[::-1], None, None)\n",
    "    undist = cv2.undistort(img, mtx, dist, None, mtx)\n",
    "    return undist"
   ]
  },
  {
   "cell_type": "code",
   "execution_count": 5,
   "metadata": {
    "collapsed": true
   },
   "outputs": [],
   "source": [
    "# Save a calibrated image for final report\n",
    "import scipy.misc\n",
    "fname = 'test_images/test1.jpg'\n",
    "img = mpimg.imread(fname)\n",
    "new_img = calibrate(img, objpoints, imgpoints)\n",
    "scipy.misc.imsave('output_images/test1.jpg', new_img)\n",
    "#f, axes = plt.subplots(1, 2, figsize=(20,10))\n",
    "#axes[0].imshow(img)\n",
    "#axes[1].imshow(new_img)"
   ]
  },
  {
   "cell_type": "markdown",
   "metadata": {},
   "source": [
    "## Thresholding Functions"
   ]
  },
  {
   "cell_type": "code",
   "execution_count": 6,
   "metadata": {
    "collapsed": true
   },
   "outputs": [],
   "source": [
    "def eq_Hist(img): # Histogram normalization\n",
    "    img[:, :, 0] = cv2.equalizeHist(img[:, :, 0])\n",
    "    img[:, :, 1] = cv2.equalizeHist(img[:, :, 1])\n",
    "    img[:, :, 2] = cv2.equalizeHist(img[:, :, 2])\n",
    "    return img"
   ]
  },
  {
   "cell_type": "code",
   "execution_count": 7,
   "metadata": {},
   "outputs": [
    {
     "data": {
      "text/plain": [
       "'\\nf, axes = plt.subplots(3, 2, figsize=(25,15))\\naxes[0,0].set_title(\\'Gray\\')\\naxes[0,0].imshow(gray, cmap=\\'gray\\')\\n\\naxes[0,1].set_title(\\'S Channel\\')\\naxes[0,1].imshow(s_channel, cmap=\\'gray\\')\\n\\naxes[1,0].set_title(\\'S Sobel\\')\\naxes[1,0].imshow(s_binary, cmap=\\'gray\\')\\n\\nsbinary_warped = np.zeros_like(sxbinary)\\nsbinary_warped[(sxbinary == 1) | (s_binary == 1)] = 1\\nsbinary_warped, minv = warp(s_binary)\\n\\naxes[1,1].set_title(\\'S Sobel Warped\\')\\naxes[1,1].imshow(sbinary_warped, cmap=\\'gray\\')\\n\\naxes[2,0].set_title(\\'Gray Sobel\\')\\naxes[2,0].imshow(sxbinary, cmap=\\'gray\\')\\n\\ngray_binary_warped = np.zeros_like(sxbinary)\\ngray_binary_warped[(sxbinary == 1) | (s_binary == 1)] = 1\\ngray_binary_warped, minv = warp(gray_binary_warped)\\n\\naxes[2,1].set_title(\\'Gray Sobel Warp\\')\\ngray_binary_warped = cv2.morphologyEx(gray_binary_warped, cv2.MORPH_OPEN, (9,9))\\naxes[2,1].imshow(gray_binary_warped, cmap=\\'gray\\')\\n\\nf.suptitle(\"test5\", fontsize=24)\\nbinary_warped = gray_binary_warped\\n'"
      ]
     },
     "execution_count": 7,
     "metadata": {},
     "output_type": "execute_result"
    }
   ],
   "source": [
    "fname = 'test_images/test5.jpg'\n",
    "img = mpimg.imread(fname)\n",
    "img = calibrate(img, objpoints, imgpoints)\n",
    "img_size = (img.shape[1], img.shape[0])\n",
    "kernel = np.ones((3,3),np.uint8)\n",
    "# Grayscale image\n",
    "gray = cv2.cvtColor(img, cv2.COLOR_RGB2GRAY)\n",
    "\n",
    "# Convert to HLS color space and separate the S channel\n",
    "hls = cv2.cvtColor(img, cv2.COLOR_RGB2HLS)\n",
    "s_channel = hls[:,:,2]\n",
    "l_channel = hls[:,:,1]\n",
    "h_channel = hls[:,:,0]\n",
    "\n",
    "r_channel = img[:,:,0]\n",
    "g_channel = img[:,:,1]\n",
    "b_channel = img[:,:,2]\n",
    "\n",
    "lab_image = cv2.cvtColor(img, cv2.COLOR_BGR2LAB)\n",
    "ll_channel,a_channel,bb_channel = cv2.split(lab_image)\n",
    "bb_channel, minv = warp(bb_channel)\n",
    "bb_channel = cv2.morphologyEx(bb_channel, cv2.MORPH_TOPHAT, (5,5))\n",
    "#bb_channel = getThres(bb_channel, thresh_min = 150)\n",
    "#r_channel = getThres(r_channel, thresh_min = 180)\n",
    "#r_channel = getSobelBinaryX(r_channel, sobel_kernel = 15, thresh_min = 190, thresh_max=255)\n",
    "#r_channel = cv2.morphologyEx(r_channel, cv2.MORPH_OPEN, (3,3))\n",
    "src = s_channel* 0.6 + gray * 0.4\n",
    "src = np.array( src).astype ('uint8')\n",
    "#src = np.array( src / 255.).astype ('float32') - 0.5\n",
    "blurf = np.zeros((1, 5))\n",
    "blurf.fill (1)\n",
    "src = cv2.filter2D(src, cv2.CV_32F, blurf)\n",
    "f = np.zeros((1, 30))\n",
    "f.fill (1)\n",
    "l = cv2.morphologyEx(src, cv2.MORPH_OPEN, f)\n",
    "src = src - l\n",
    "#src = getThres(src, thresh_min = 80)\n",
    "src = getSobelBinaryX(src, sobel_kernel = 15, thresh_min = 190, thresh_max=255)\n",
    "#cv2.morphologyEx(src, cv2.MORPH_CLOSE, blurf)\n",
    "src_warp, minv = warp(src)\n",
    "fig, ax = plt.subplots(2, 2)\n",
    "ax[0,0].set_title('r')\n",
    "ax[0,0].imshow(r_channel, cmap='gray')\n",
    "ax[1,0].set_title('s')\n",
    "ax[1,0].imshow(src, cmap='gray')\n",
    "ax[0,1].set_title('bb')\n",
    "ax[0,1].imshow(bb_channel, cmap='gray')\n",
    "ax[1,1].set_title('src_warp')\n",
    "ax[1,1].imshow(src_warp, cmap='gray')\n",
    "binary_warped = src_warp\n",
    "# Grayscale image\n",
    "gray = cv2.cvtColor(img, cv2.COLOR_RGB2GRAY)\n",
    "\n",
    "# Threshold x gradient\n",
    "sxbinary = getSobelBinaryX(gray, sobel_kernel = 15, thresh_min = 170, thresh_max=255)\n",
    "\n",
    "# Threshold y gradient\n",
    "sybinary = getSobelBinaryY(gray, sobel_kernel = 15, thresh_min = 245, thresh_max=255)\n",
    "\n",
    "# Threshold direction gradient\n",
    "dirbinary = getSobelDirection(gray, sobel_kernel = 3, thresh_min = np.pi/2-0.3, thresh_max=np.pi/2-0.2)\n",
    "\n",
    "# Threshold color channel\n",
    "s_binary = getSatBinary(s_channel, thresh_min = 140, thresh_max=255)\n",
    "s_binary = getSobelBinaryX(s_channel, sobel_kernel = 15, thresh_min = 235, thresh_max=255)\n",
    "\n",
    "# Stack each channel to view their individual contributions in green and blue respectively\n",
    "# This returns a stack of the two binary images, whose components you can see as different colors\n",
    "color_binary = warp(np.dstack(( np.zeros_like(sxbinary), s_binary, sxbinary)) * 255)\n",
    "\n",
    "# Do canny edge detection\n",
    "canny_img = getLaplace(s_channel, thresh_min = 200, thresh_max=255);\n",
    "#gray_binary_warped = cv2.morphologyEx(gray_binary_warped, cv2.MORPH_OPEN, kernel)\n",
    "# Plotting thresholded images\n",
    "'''\n",
    "f, axes = plt.subplots(3, 2, figsize=(25,15))\n",
    "axes[0,0].set_title('Gray')\n",
    "axes[0,0].imshow(gray, cmap='gray')\n",
    "\n",
    "axes[0,1].set_title('S Channel')\n",
    "axes[0,1].imshow(s_channel, cmap='gray')\n",
    "\n",
    "axes[1,0].set_title('S Sobel')\n",
    "axes[1,0].imshow(s_binary, cmap='gray')\n",
    "\n",
    "sbinary_warped = np.zeros_like(sxbinary)\n",
    "sbinary_warped[(sxbinary == 1) | (s_binary == 1)] = 1\n",
    "sbinary_warped, minv = warp(s_binary)\n",
    "\n",
    "axes[1,1].set_title('S Sobel Warped')\n",
    "axes[1,1].imshow(sbinary_warped, cmap='gray')\n",
    "\n",
    "axes[2,0].set_title('Gray Sobel')\n",
    "axes[2,0].imshow(sxbinary, cmap='gray')\n",
    "\n",
    "gray_binary_warped = np.zeros_like(sxbinary)\n",
    "gray_binary_warped[(sxbinary == 1) | (s_binary == 1)] = 1\n",
    "gray_binary_warped, minv = warp(gray_binary_warped)\n",
    "\n",
    "axes[2,1].set_title('Gray Sobel Warp')\n",
    "gray_binary_warped = cv2.morphologyEx(gray_binary_warped, cv2.MORPH_OPEN, (9,9))\n",
    "axes[2,1].imshow(gray_binary_warped, cmap='gray')\n",
    "\n",
    "f.suptitle(\"test5\", fontsize=24)\n",
    "binary_warped = gray_binary_warped\n",
    "'''"
   ]
  },
  {
   "cell_type": "code",
   "execution_count": null,
   "metadata": {},
   "outputs": [],
   "source": [
    "histogram = np.sum(binary_warped[int(binary_warped.shape[0]/2):,:], axis=0)\n",
    "f, ax = plt.subplots()\n",
    "ax.plot(histogram)"
   ]
  },
  {
   "cell_type": "code",
   "execution_count": null,
   "metadata": {},
   "outputs": [],
   "source": [
    "out_img = np.dstack((binary_warped, binary_warped, binary_warped))*255\n",
    "midpoint = np.int(histogram.shape[0]/2)\n",
    "leftx_base = np.argmax(histogram[:midpoint])\n",
    "rightx_base = np.argmax(histogram[midpoint:]) + midpoint"
   ]
  },
  {
   "cell_type": "code",
   "execution_count": null,
   "metadata": {},
   "outputs": [],
   "source": [
    "cv2.line(out_img,(midpoint, binary_warped.shape[1]),(midpoint, 0),(255,0,0), 5)\n",
    "cv2.line(out_img,(leftx_base, binary_warped.shape[1]),(leftx_base, 0),(255,0,0), 5)\n",
    "cv2.line(out_img,(rightx_base, binary_warped.shape[1]),(rightx_base, 0),(255,0,0), 5)\n",
    "nwindows = 9\n",
    "margin = 100\n",
    "win_height = np.int(binary_warped.shape[0]/nwindows)\n",
    "win_y_bot = binary_warped.shape[0]\n",
    "win_y_top = binary_warped.shape[0] - win_height\n",
    "win_xleft_bot = leftx_base - margin\n",
    "win_xleft_top = leftx_base + margin\n",
    "cv2.rectangle(out_img,(win_xleft_bot,win_y_bot),(win_xleft_top,win_y_top),\n",
    "        (0,255,0), 2)\n",
    "f, ax = plt.subplots()\n",
    "ax.imshow(out_img)"
   ]
  },
  {
   "cell_type": "code",
   "execution_count": null,
   "metadata": {
    "collapsed": true
   },
   "outputs": [],
   "source": [
    "nonzero = binary_warped.nonzero()\n",
    "nonzeroy = np.array(nonzero[0])\n",
    "nonzerox = np.array(nonzero[1])"
   ]
  },
  {
   "cell_type": "code",
   "execution_count": null,
   "metadata": {},
   "outputs": [],
   "source": [
    "left_fitx, right_fitx, ploty = windSlides(binary_warped)"
   ]
  },
  {
   "cell_type": "code",
   "execution_count": null,
   "metadata": {
    "collapsed": true
   },
   "outputs": [],
   "source": [
    "def windSlides(binary_warped):\n",
    "    # Assuming you have created a warped binary image called \"binary_warped\"\n",
    "    # Take a histogram of the bottom half of the image\n",
    "    histogram = np.sum(binary_warped[int(binary_warped.shape[0]/2):,:], axis=0)\n",
    "    # Create an output image to draw on and  visualize the result\n",
    "    out_img = np.dstack((binary_warped, binary_warped, binary_warped))*255\n",
    "    # Find the peak of the left and right halves of the histogram\n",
    "    # These will be the starting point for the left and right lines\n",
    "    midpoint = np.int(histogram.shape[0]/2)\n",
    "    leftx_base = np.argmax(histogram[:midpoint])\n",
    "    rightx_base = np.argmax(histogram[midpoint:]) + midpoint\n",
    "    # Choose the number of sliding windows\n",
    "    nwindows = 9\n",
    "    # Set height of windows\n",
    "    window_height = np.int(binary_warped.shape[0]/nwindows)\n",
    "    # Identify the x and y positions of all nonzero pixels in the image\n",
    "    nonzero = binary_warped.nonzero()\n",
    "    nonzeroy = np.array(nonzero[0])\n",
    "    nonzerox = np.array(nonzero[1])\n",
    "    # Current positions to be updated for each window\n",
    "    leftx_current = leftx_base\n",
    "    rightx_current = rightx_base\n",
    "    # Set the width of the windows +/- margin\n",
    "    margin = 90\n",
    "    # Set minimum number of pixels found to recenter window\n",
    "    minpix = 50\n",
    "    # Create empty lists to receive left and right lane pixel indices\n",
    "    left_lane_inds = []\n",
    "    right_lane_inds = []\n",
    "    # Step through the windows one by one\n",
    "    for window in range(nwindows):\n",
    "        # Identify window boundaries in x and y (and right and left)\n",
    "        win_y_top = binary_warped.shape[0] - (window+1)*window_height\n",
    "        win_y_bot = binary_warped.shape[0] - window*window_height\n",
    "        win_xleft_bot = leftx_current - margin\n",
    "        win_xleft_top = leftx_current + margin\n",
    "        win_xright_bot = rightx_current - margin\n",
    "        win_xright_top = rightx_current + margin\n",
    "        # Draw the windows on the visualization image\n",
    "        cv2.rectangle(out_img,(win_xleft_bot,win_y_bot),(win_xleft_top,win_y_top),\n",
    "        (0,255,0), 2) \n",
    "        cv2.rectangle(out_img,(win_xright_bot,win_y_bot),(win_xright_top,win_y_top),\n",
    "        (0,255,0), 2) \n",
    "        # Identify the nonzero pixels in x and y within the window\n",
    "        good_left_inds = ((nonzeroy >= win_y_top) & (nonzeroy < win_y_bot) & \n",
    "        (nonzerox >= win_xleft_bot) &  (nonzerox < win_xleft_top)).nonzero()[0]\n",
    "        good_right_inds = ((nonzeroy >= win_y_top) & (nonzeroy < win_y_bot) & \n",
    "        (nonzerox >= win_xright_bot) &  (nonzerox < win_xright_top)).nonzero()[0]\n",
    "        # Append these indices to the lists\n",
    "        left_lane_inds.append(good_left_inds)\n",
    "        right_lane_inds.append(good_right_inds)\n",
    "        # If you found > minpix pixels, recenter next window on their mean position\n",
    "        if len(good_left_inds) > minpix:\n",
    "            leftx_current = np.int(np.mean(nonzerox[good_left_inds]))\n",
    "        if len(good_right_inds) > minpix:        \n",
    "            rightx_current = np.int(np.mean(nonzerox[good_right_inds]))\n",
    "    \n",
    "    # Concatenate the arrays of indices\n",
    "    left_lane_inds = np.concatenate(left_lane_inds)\n",
    "    right_lane_inds = np.concatenate(right_lane_inds)\n",
    "\n",
    "    # Extract left and right line pixel positions\n",
    "    leftx = nonzerox[left_lane_inds]\n",
    "    lefty = nonzeroy[left_lane_inds] \n",
    "    rightx = nonzerox[right_lane_inds]\n",
    "    righty = nonzeroy[right_lane_inds] \n",
    "\n",
    "    # Fit a second order polynomial to each\n",
    "    left_fit = np.polyfit(lefty, leftx, 2)\n",
    "    right_fit = np.polyfit(righty, rightx, 2)\n",
    "    # Generate x and y values for plotting\n",
    "    ploty = np.linspace(0, binary_warped.shape[0]-1, binary_warped.shape[0] )\n",
    "    left_fitx = left_fit[0]*ploty**2 + left_fit[1]*ploty + left_fit[2]\n",
    "    right_fitx = right_fit[0]*ploty**2 + right_fit[1]*ploty + right_fit[2]\n",
    "\n",
    "    out_img[nonzeroy[left_lane_inds], nonzerox[left_lane_inds]] = [255, 0, 0]\n",
    "    out_img[nonzeroy[right_lane_inds], nonzerox[right_lane_inds]] = [0, 0, 255]\n",
    "    \n",
    "    fig, ax = plt.subplots()\n",
    "    ax.imshow(out_img)\n",
    "    ax.plot(left_fitx, ploty, color='yellow')\n",
    "    ax.plot(right_fitx, ploty, color='yellow')\n",
    "    return left_fitx, right_fitx, ploty"
   ]
  },
  {
   "cell_type": "code",
   "execution_count": 8,
   "metadata": {
    "collapsed": true
   },
   "outputs": [],
   "source": [
    "# Import everything needed to edit/save/watch video clips\n",
    "from moviepy.editor import VideoFileClip\n",
    "from IPython.display import HTML"
   ]
  },
  {
   "cell_type": "code",
   "execution_count": 9,
   "metadata": {
    "collapsed": true
   },
   "outputs": [],
   "source": [
    "class Line():\n",
    "    def __init__(self):\n",
    "        # was the line detected in the last iteration?\n",
    "        self.detected = False  \n",
    "        # x values of the last n fits of the line\n",
    "        self.recent_xfitted = [] \n",
    "        \n",
    "        self.left_fit = None\n",
    "        \n",
    "        self.right_fit = None\n",
    "        #average x values of the fitted line over the last n iterations\n",
    "        self.bestx = None     \n",
    "        #polynomial coefficients averaged over the last n iterations\n",
    "        self.best_fit = None  \n",
    "        #polynomial coefficients for the most recent fit\n",
    "        self.current_fit = [np.array([False])]  \n",
    "        #radius of curvature of the line in some units\n",
    "        self.left_curverad = None\n",
    "        self.right_curverad = None\n",
    "        #distance in meters of vehicle center from the line\n",
    "        self.line_base_pos = None \n",
    "        #difference in fit coefficients between last and new fits\n",
    "        self.diffs = np.array([0,0,0], dtype='float') \n",
    "        #x values for detected line pixels\n",
    "        self.allx = None  \n",
    "        #y values for detected line pixels\n",
    "        self.ally = None\n",
    "\n",
    "lanes = Line()"
   ]
  },
  {
   "cell_type": "code",
   "execution_count": 10,
   "metadata": {
    "collapsed": true
   },
   "outputs": [],
   "source": [
    "def process_image(image):\n",
    "    # NOTE: The output you return should be a color image (3 channel) for processing video below\n",
    "    # TODO: put your pipeline here,\n",
    "    # you should return the final output (image where lines are drawn on lanes)\n",
    "    \n",
    "    return pipeline(image, objpoints, imgpoints,lanes)"
   ]
  },
  {
   "cell_type": "code",
   "execution_count": null,
   "metadata": {},
   "outputs": [
    {
     "name": "stdout",
     "output_type": "stream",
     "text": [
      "[MoviePy] >>>> Building video project_video_output.mp4\n",
      "[MoviePy] Writing video project_video_output.mp4\n"
     ]
    },
    {
     "name": "stderr",
     "output_type": "stream",
     "text": [
      "  5%|█▊                                    | 62/1261 [03:03<1:02:10,  3.11s/it]"
     ]
    }
   ],
   "source": [
    "proj_video_out = 'project_video_output.mp4'\n",
    "## To speed up the testing process you may want to try your pipeline on a shorter subclip of the video\n",
    "## To do so add .subclip(start_second,end_second) to the end of the line below\n",
    "## Where start_second and end_second are integer values representing the start and end of the subclip\n",
    "## You may also uncomment the following line for a subclip of the first 5 seconds\n",
    "##clip1 = VideoFileClip(\"test_videos/solidWhiteRight.mp4\").subclip(0,5)\n",
    "clip1 = VideoFileClip(\"project_video.mp4\")\n",
    "white_clip = clip1.fl_image(process_image) #NOTE: this function expects color images!!\n",
    "%time white_clip.write_videofile(proj_video_out, audio=False)"
   ]
  },
  {
   "cell_type": "code",
   "execution_count": null,
   "metadata": {},
   "outputs": [],
   "source": [
    "HTML(\"\"\"\n",
    "<video width=\"960\" height=\"540\" controls>\n",
    "  <source src=\"{0}\">\n",
    "</video>\n",
    "\"\"\".format(proj_video_out))"
   ]
  },
  {
   "cell_type": "code",
   "execution_count": null,
   "metadata": {
    "collapsed": true
   },
   "outputs": [],
   "source": [
    "class Line():\n",
    "    def __init__(self):\n",
    "        # was the line detected in the last iteration?\n",
    "        self.detected = False  \n",
    "        # x values of the last n fits of the line\n",
    "        self.recent_xfitted = [] \n",
    "        \n",
    "        self.left_fit = None\n",
    "        \n",
    "        self.right_fit = None\n",
    "        #average x values of the fitted line over the last n iterations\n",
    "        self.bestx = None     \n",
    "        #polynomial coefficients averaged over the last n iterations\n",
    "        self.best_fit = None  \n",
    "        #polynomial coefficients for the most recent fit\n",
    "        self.current_fit = [np.array([False])]  \n",
    "        #radius of curvature of the line in some units\n",
    "        self.left_curverad = None\n",
    "        self.right_curverad = None\n",
    "        #distance in meters of vehicle center from the line\n",
    "        self.line_base_pos = None \n",
    "        #difference in fit coefficients between last and new fits\n",
    "        self.diffs = np.array([0,0,0], dtype='float') \n",
    "        #x values for detected line pixels\n",
    "        self.allx = None  \n",
    "        #y values for detected line pixels\n",
    "        self.ally = None\n",
    "\n",
    "lanes = Line()"
   ]
  },
  {
   "cell_type": "code",
   "execution_count": null,
   "metadata": {
    "collapsed": true
   },
   "outputs": [],
   "source": []
  }
 ],
 "metadata": {
  "kernelspec": {
   "display_name": "Python 3",
   "language": "python",
   "name": "python3"
  },
  "language_info": {
   "codemirror_mode": {
    "name": "ipython",
    "version": 3
   },
   "file_extension": ".py",
   "mimetype": "text/x-python",
   "name": "python",
   "nbconvert_exporter": "python",
   "pygments_lexer": "ipython3",
   "version": "3.5.2"
  },
  "widgets": {
   "state": {},
   "version": "1.1.2"
  }
 },
 "nbformat": 4,
 "nbformat_minor": 2
}

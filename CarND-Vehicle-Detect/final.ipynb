{
 "cells": [
  {
   "cell_type": "code",
   "execution_count": 1,
   "metadata": {},
   "outputs": [],
   "source": [
    "from pipeline import *\n",
    "from moviepy.editor import VideoFileClip\n",
    "from IPython.display import HTML\n",
    "from collections import Counter\n",
    "from statistics import mean"
   ]
  },
  {
   "cell_type": "code",
   "execution_count": 2,
   "metadata": {},
   "outputs": [],
   "source": [
    "orient = 11\n",
    "pix_per_cell = 16\n",
    "cell_per_block = 2\n",
    "cspace = 'YUV'\n",
    "sig = \"_ori\"+ str(orient)+ \"_pix\" + str(pix_per_cell) + \"_cell_per_block\"\n",
    "clf = None\n",
    "scaler = None"
   ]
  },
  {
   "cell_type": "code",
   "execution_count": 3,
   "metadata": {},
   "outputs": [
    {
     "name": "stdout",
     "output_type": "stream",
     "text": [
      "Loading the features took 0.24 seconds\n"
     ]
    }
   ],
   "source": [
    "X, y = loadDataFull()\n",
    "clf, scaler = trainModelFull(X, y)"
   ]
  },
  {
   "cell_type": "code",
   "execution_count": 4,
   "metadata": {},
   "outputs": [],
   "source": [
    "def pipeline(image):\n",
    "    img = (image/255.0).astype(\"float32\")\n",
    "    heat = np.zeros_like(img[:,:,0]).astype(np.int)\n",
    "\n",
    "    windows = slide_window(img, x_start_stop=[650, img.shape[1]+40],\n",
    "        y_start_stop=[380, 650], xy_overlap=(0.65, 0.65))\n",
    "    windows2 = slide_window(img, x_start_stop=[650, img.shape[1]+40],\n",
    "        y_start_stop=[380, 650], xy_overlap=(0.75, 0.75), xy_window=(80, 80))\n",
    "    windows3 = slide_window(img, x_start_stop=[650, img.shape[1]+40],\n",
    "        y_start_stop=[380, 650], xy_overlap=(0.75, 0.75), xy_window=(96, 96))\n",
    "    \n",
    "    on_windows = search_windows(img, windows, clf, scaler,\n",
    "                    orient=orient, pix_per_cell=pix_per_cell,\n",
    "                    cell_per_block=cell_per_block, cspace=cspace)\n",
    "\n",
    "    on_windows2 = search_windows(img, windows2, clf, scaler,\n",
    "                    orient=orient, pix_per_cell=pix_per_cell,\n",
    "                    cell_per_block=cell_per_block, cspace=cspace)\n",
    "\n",
    "    on_windows3 = search_windows(img, windows3, clf, scaler,\n",
    "                    orient=orient, pix_per_cell=pix_per_cell,\n",
    "                    cell_per_block=cell_per_block, cspace=cspace)\n",
    "    \n",
    "    heatmap = add_heat(heat, on_windows)\n",
    "    heatmap = add_heat(heatmap, on_windows2)\n",
    "    heatmap = add_heat(heatmap, on_windows3)\n",
    "    boxer.updateHeat(heatmap)\n",
    "    boxer.num = boxer.num + 1\n",
    "    if(boxer.num % 10 == 0):\n",
    "        boxer.getAvg()\n",
    "    if boxer.labels == None:\n",
    "        draw_img = image\n",
    "    else:\n",
    "        draw_img = draw_labeled_bboxes(np.copy(image), boxer.labels)\n",
    "\n",
    "    return draw_img"
   ]
  },
  {
   "cell_type": "code",
   "execution_count": 5,
   "metadata": {},
   "outputs": [],
   "source": [
    "def save_pipeline(image):\n",
    "    img = (image/255.0).astype(\"float32\")\n",
    "    if(boxer.num % 10 == 0 or boxer.num == 1):\n",
    "        windows = slide_window(img, x_start_stop=[650, img.shape[1]+40],\n",
    "            y_start_stop=[380, 650], xy_overlap=(0.65, 0.65))\n",
    "        windows2 = slide_window(img, x_start_stop=[650, img.shape[1]+40],\n",
    "            y_start_stop=[380, 650], xy_overlap=(0.75, 0.75), xy_window=(80, 80))\n",
    "        windows3 = slide_window(img, x_start_stop=[650, img.shape[1]+40],\n",
    "            y_start_stop=[380, 650], xy_overlap=(0.75, 0.75), xy_window=(96, 96))\n",
    "\n",
    "        on_windows = search_windows(img, windows, clf, scaler,\n",
    "                        orient=orient, pix_per_cell=pix_per_cell,\n",
    "                        cell_per_block=cell_per_block, cspace=cspace)\n",
    "\n",
    "        on_windows2 = search_windows(img, windows2, clf, scaler,\n",
    "                        orient=orient, pix_per_cell=pix_per_cell,\n",
    "                        cell_per_block=cell_per_block, cspace=cspace)\n",
    "\n",
    "        on_windows3 = search_windows(img, windows3, clf, scaler,\n",
    "                        orient=orient, pix_per_cell=pix_per_cell,\n",
    "                        cell_per_block=cell_per_block, cspace=cspace)\n",
    "        save_on_windows(img, on_windows, 1, boxer.num)\n",
    "        save_on_windows(img, on_windows2, 2, boxer.num)\n",
    "        save_on_windows(img, on_windows3, 3, boxer.num)\n",
    "    \n",
    "    boxer.num = boxer.num + 1\n",
    "\n",
    "    return image"
   ]
  },
  {
   "cell_type": "code",
   "execution_count": 6,
   "metadata": {},
   "outputs": [],
   "source": [
    "img_set = plt.imread(\"test_images_png/test0.png\")\n",
    "class Boxes():\n",
    "    def __init__(self):\n",
    "        # was the line detected in the last iteration?\n",
    "        self.current_heat = None\n",
    "        self.labels = None\n",
    "        self.heatmap_avg = np.zeros_like(img_set[:,:,0]).astype(np.int)  \n",
    "        self.num = 1\n",
    "    def updateHeat(self,new_heat):\n",
    "        self.heatmap_avg = new_heat + self.heatmap_avg\n",
    "        return\n",
    "    def resetHeat(self):\n",
    "        self.heatmap_avg = self.heatmap_avg * 0\n",
    "        return\n",
    "    def getAvg(self):\n",
    "        self.current_heat = self.heatmap_avg / 10 \n",
    "        self.current_heat = apply_threshold(self.current_heat, 3)\n",
    "        self.labels = label(self.current_heat)\n",
    "        self.resetHeat()\n",
    "        return self.current_heat\n",
    "        \n",
    "boxer = Boxes()"
   ]
  },
  {
   "cell_type": "code",
   "execution_count": 7,
   "metadata": {},
   "outputs": [
    {
     "name": "stdout",
     "output_type": "stream",
     "text": [
      "[MoviePy] >>>> Building video project_video_yuh.mp4\n",
      "[MoviePy] Writing video project_video_yuh.mp4\n"
     ]
    },
    {
     "name": "stderr",
     "output_type": "stream",
     "text": [
      "100%|███████████████████████████████████▉| 1260/1261 [1:03:48<00:02,  2.86s/it]\n"
     ]
    },
    {
     "name": "stdout",
     "output_type": "stream",
     "text": [
      "[MoviePy] Done.\n",
      "[MoviePy] >>>> Video ready: project_video_yuh.mp4 \n",
      "\n",
      "Wall time: 1h 3min 50s\n"
     ]
    }
   ],
   "source": [
    "proj_video_out = 'project_video_output.mp4'\n",
    "## To speed up the testing process you may want to try your pipeline on a shorter subclip of the video\n",
    "## To do so add .subclip(start_second,end_second) to the end of the line below\n",
    "## Where start_second and end_second are integer values representing the start and end of the subclip\n",
    "## You may also uncomment the following line for a subclip of the first 5 seconds\n",
    "##clip1 = VideoFileClip(\"test_videos/solidWhiteRight.mp4\").subclip(0,5)\n",
    "clip1 = VideoFileClip(\"project_video.mp4\")\n",
    "white_clip = clip1.fl_image(pipeline) #NOTE: this function expects color images!!\n",
    "%time white_clip.write_videofile(proj_video_out, audio=False)"
   ]
  },
  {
   "cell_type": "code",
   "execution_count": null,
   "metadata": {},
   "outputs": [],
   "source": []
  }
 ],
 "metadata": {
  "kernelspec": {
   "display_name": "Python 3",
   "language": "python",
   "name": "python3"
  },
  "language_info": {
   "codemirror_mode": {
    "name": "ipython",
    "version": 3
   },
   "file_extension": ".py",
   "mimetype": "text/x-python",
   "name": "python",
   "nbconvert_exporter": "python",
   "pygments_lexer": "ipython3",
   "version": "3.5.5"
  },
  "widgets": {
   "state": {},
   "version": "1.1.2"
  }
 },
 "nbformat": 4,
 "nbformat_minor": 2
}
